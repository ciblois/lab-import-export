{
 "cells": [
  {
   "cell_type": "markdown",
   "metadata": {},
   "source": [
    "# Import and Export Files \n",
    "\n"
   ]
  },
  {
   "cell_type": "markdown",
   "metadata": {},
   "source": [
    "# Challenge 0 - Accessing our database\n",
    "Create a connection to access the sakila database with the ip, user and password provided in class. Take a look at the data. Do some joins in order to have more elaborated tables in a dataframe (you can try first the query in the DBMS and then use it in your notebook)."
   ]
  },
  {
   "cell_type": "code",
   "execution_count": 18,
   "metadata": {},
   "outputs": [
    {
     "output_type": "stream",
     "name": "stdout",
     "text": [
      "Connection open\n"
     ]
    }
   ],
   "source": [
    "# your code here\n",
    "import getpass\n",
    "import mysql.connector\n",
    "cnx = mysql.connector.connect(user = 'root',password = getpass.getpass(), host ='localhost', database = 'sakila', auth_plugin='mysql_native_password')\n",
    "cnx.is_connected()\n",
    "if cnx.is_connected():\n",
    "    print(\"Connection open\")\n",
    "    # do stuff you need to the database\n",
    "else:\n",
    "    print(\"Connection is not successfully open\")"
   ]
  },
  {
   "cell_type": "markdown",
   "metadata": {},
   "source": [
    "# Challenge 1 - Working with JSON files\n",
    "Import the pandas library."
   ]
  },
  {
   "cell_type": "code",
   "execution_count": 19,
   "metadata": {},
   "outputs": [],
   "source": [
    "# your code here\n",
    "import pandas as pd"
   ]
  },
  {
   "cell_type": "markdown",
   "metadata": {},
   "source": [
    "In the next cell, load the data in nasa.json in the data folder and load it into a pandas dataframe. Name the dataframe nasa."
   ]
  },
  {
   "cell_type": "code",
   "execution_count": 20,
   "metadata": {},
   "outputs": [],
   "source": [
    "# your code here\n",
    "nasa_data = pd.read_json('nasa.json')\n",
    "nasa = pd.DataFrame(nasa_data)"
   ]
  },
  {
   "cell_type": "markdown",
   "metadata": {},
   "source": [
    "Now that we have loaded the data, let's examine it using the head() function."
   ]
  },
  {
   "cell_type": "code",
   "execution_count": 21,
   "metadata": {},
   "outputs": [
    {
     "output_type": "execute_result",
     "data": {
      "text/plain": [
       "   :@computed_region_cbhk_fwbd  :@computed_region_nnqa_25f4  fall  \\\n",
       "0                          NaN                          NaN  Fell   \n",
       "1                          NaN                          NaN  Fell   \n",
       "2                          NaN                          NaN  Fell   \n",
       "3                          NaN                          NaN  Fell   \n",
       "4                          NaN                          NaN  Fell   \n",
       "\n",
       "                                         geolocation   id      mass      name  \\\n",
       "0  {'type': 'Point', 'coordinates': [6.08333, 50....    1      21.0    Aachen   \n",
       "1  {'type': 'Point', 'coordinates': [10.23333, 56...    2     720.0    Aarhus   \n",
       "2  {'type': 'Point', 'coordinates': [-113, 54.216...    6  107000.0      Abee   \n",
       "3  {'type': 'Point', 'coordinates': [-99.9, 16.88...   10    1914.0  Acapulco   \n",
       "4  {'type': 'Point', 'coordinates': [-64.95, -33....  370     780.0   Achiras   \n",
       "\n",
       "  nametype     recclass    reclat    reclong                     year  \n",
       "0    Valid           L5  50.77500    6.08333  1880-01-01T00:00:00.000  \n",
       "1    Valid           H6  56.18333   10.23333  1951-01-01T00:00:00.000  \n",
       "2    Valid          EH4  54.21667 -113.00000  1952-01-01T00:00:00.000  \n",
       "3    Valid  Acapulcoite  16.88333  -99.90000  1976-01-01T00:00:00.000  \n",
       "4    Valid           L6 -33.16667  -64.95000  1902-01-01T00:00:00.000  "
      ],
      "text/html": "<div>\n<style scoped>\n    .dataframe tbody tr th:only-of-type {\n        vertical-align: middle;\n    }\n\n    .dataframe tbody tr th {\n        vertical-align: top;\n    }\n\n    .dataframe thead th {\n        text-align: right;\n    }\n</style>\n<table border=\"1\" class=\"dataframe\">\n  <thead>\n    <tr style=\"text-align: right;\">\n      <th></th>\n      <th>:@computed_region_cbhk_fwbd</th>\n      <th>:@computed_region_nnqa_25f4</th>\n      <th>fall</th>\n      <th>geolocation</th>\n      <th>id</th>\n      <th>mass</th>\n      <th>name</th>\n      <th>nametype</th>\n      <th>recclass</th>\n      <th>reclat</th>\n      <th>reclong</th>\n      <th>year</th>\n    </tr>\n  </thead>\n  <tbody>\n    <tr>\n      <th>0</th>\n      <td>NaN</td>\n      <td>NaN</td>\n      <td>Fell</td>\n      <td>{'type': 'Point', 'coordinates': [6.08333, 50....</td>\n      <td>1</td>\n      <td>21.0</td>\n      <td>Aachen</td>\n      <td>Valid</td>\n      <td>L5</td>\n      <td>50.77500</td>\n      <td>6.08333</td>\n      <td>1880-01-01T00:00:00.000</td>\n    </tr>\n    <tr>\n      <th>1</th>\n      <td>NaN</td>\n      <td>NaN</td>\n      <td>Fell</td>\n      <td>{'type': 'Point', 'coordinates': [10.23333, 56...</td>\n      <td>2</td>\n      <td>720.0</td>\n      <td>Aarhus</td>\n      <td>Valid</td>\n      <td>H6</td>\n      <td>56.18333</td>\n      <td>10.23333</td>\n      <td>1951-01-01T00:00:00.000</td>\n    </tr>\n    <tr>\n      <th>2</th>\n      <td>NaN</td>\n      <td>NaN</td>\n      <td>Fell</td>\n      <td>{'type': 'Point', 'coordinates': [-113, 54.216...</td>\n      <td>6</td>\n      <td>107000.0</td>\n      <td>Abee</td>\n      <td>Valid</td>\n      <td>EH4</td>\n      <td>54.21667</td>\n      <td>-113.00000</td>\n      <td>1952-01-01T00:00:00.000</td>\n    </tr>\n    <tr>\n      <th>3</th>\n      <td>NaN</td>\n      <td>NaN</td>\n      <td>Fell</td>\n      <td>{'type': 'Point', 'coordinates': [-99.9, 16.88...</td>\n      <td>10</td>\n      <td>1914.0</td>\n      <td>Acapulco</td>\n      <td>Valid</td>\n      <td>Acapulcoite</td>\n      <td>16.88333</td>\n      <td>-99.90000</td>\n      <td>1976-01-01T00:00:00.000</td>\n    </tr>\n    <tr>\n      <th>4</th>\n      <td>NaN</td>\n      <td>NaN</td>\n      <td>Fell</td>\n      <td>{'type': 'Point', 'coordinates': [-64.95, -33....</td>\n      <td>370</td>\n      <td>780.0</td>\n      <td>Achiras</td>\n      <td>Valid</td>\n      <td>L6</td>\n      <td>-33.16667</td>\n      <td>-64.95000</td>\n      <td>1902-01-01T00:00:00.000</td>\n    </tr>\n  </tbody>\n</table>\n</div>"
     },
     "metadata": {},
     "execution_count": 21
    }
   ],
   "source": [
    "# your code here\n",
    "nasa.head()"
   ]
  },
  {
   "cell_type": "markdown",
   "metadata": {},
   "source": [
    "####  The value_counts() function is commonly used in pandas to find the frequency of every value in a column.\n",
    "\n",
    "In the cell below, use the value_counts() function to determine the frequency of all types of asteroid landings by applying the function to the fall column."
   ]
  },
  {
   "cell_type": "code",
   "execution_count": 22,
   "metadata": {},
   "outputs": [
    {
     "output_type": "execute_result",
     "data": {
      "text/plain": [
       "12286    1\n",
       "10846    1\n",
       "11824    1\n",
       "10870    1\n",
       "16707    1\n",
       "        ..\n",
       "52412    1\n",
       "5418     1\n",
       "22368    1\n",
       "4944     1\n",
       "52843    1\n",
       "Name: id, Length: 1000, dtype: int64"
      ]
     },
     "metadata": {},
     "execution_count": 22
    }
   ],
   "source": [
    "# your code here\n",
    "nasa['id'].value_counts()"
   ]
  },
  {
   "cell_type": "markdown",
   "metadata": {},
   "source": [
    "Finally, let's save the dataframe as a json file again. Save the dataframe using the orient=records argument and name the file nasa-output.json. Remember to save the file inside the data folder."
   ]
  },
  {
   "cell_type": "code",
   "execution_count": 23,
   "metadata": {},
   "outputs": [],
   "source": [
    "# your code here\n",
    "nasa.to_json('nasa2.json', orient='records')\n",
    "#nasa_test = pd.read_json('nasa2.json')\n",
    "#nasa_test"
   ]
  },
  {
   "cell_type": "markdown",
   "metadata": {},
   "source": [
    "# Challenge 2 - Working with CSV and Other Separated Files\n",
    "\n",
    "Import the pandas library\n",
    "\n",
    "csv files are more commonly used as dataframes. In the cell below, load the file from the URL provided using the `read_csv()` function in pandas. Starting version 0.19 of pandas, you can load a csv file into a dataframe directly from a URL without having to load the file first like we did with the JSON URL. The dataset we will be using contains informtaions about NASA shuttles. \n",
    "\n",
    "In the cell below, we define the column names and the URL of the data. Following this cell, read the tst file to a variable called `shuttle`. Since the file does not contain the column names, you must add them yourself using the column names declared in `cols` using the `names` argument. Additionally, a tst file is space separated, make sure you pass ` sep=' '` to the function."
   ]
  },
  {
   "cell_type": "code",
   "execution_count": 24,
   "metadata": {},
   "outputs": [],
   "source": [
    "#Your pandas import here:\n",
    "import pandas as pd"
   ]
  },
  {
   "cell_type": "code",
   "execution_count": 25,
   "metadata": {},
   "outputs": [],
   "source": [
    "# Run this code:\n",
    "\n",
    "cols = ['time', 'rad_flow', 'fpv_close', 'fpv_open', 'high', 'bypass', 'bpv_close', 'bpv_open', 'class']\n",
    "tst_url = 'https://archive.ics.uci.edu/ml/machine-learning-databases/statlog/shuttle/shuttle.tst'"
   ]
  },
  {
   "cell_type": "code",
   "execution_count": 26,
   "metadata": {},
   "outputs": [],
   "source": [
    "# Your code here:\n",
    "shuttle = pd.read_csv(tst_url,encoding='utf-8',sep=' ', names = cols)"
   ]
  },
  {
   "cell_type": "markdown",
   "metadata": {},
   "source": [
    "Let's verify that this worked by looking at the `head()` function."
   ]
  },
  {
   "cell_type": "code",
   "execution_count": 27,
   "metadata": {},
   "outputs": [
    {
     "output_type": "execute_result",
     "data": {
      "text/plain": [
       "    time  rad_flow  fpv_close  fpv_open  high  bypass  bpv_close  bpv_open  \\\n",
       "55     0        81          0        -6    11      25         88        64   \n",
       "56     0        96          0        52    -4      40         44         4   \n",
       "50    -1        89         -7        50     0      39         40         2   \n",
       "53     9        79          0        42    -2      25         37        12   \n",
       "55     2        82          0        54    -6      26         28         2   \n",
       "\n",
       "    class  \n",
       "55      4  \n",
       "56      4  \n",
       "50      1  \n",
       "53      4  \n",
       "55      1  "
      ],
      "text/html": "<div>\n<style scoped>\n    .dataframe tbody tr th:only-of-type {\n        vertical-align: middle;\n    }\n\n    .dataframe tbody tr th {\n        vertical-align: top;\n    }\n\n    .dataframe thead th {\n        text-align: right;\n    }\n</style>\n<table border=\"1\" class=\"dataframe\">\n  <thead>\n    <tr style=\"text-align: right;\">\n      <th></th>\n      <th>time</th>\n      <th>rad_flow</th>\n      <th>fpv_close</th>\n      <th>fpv_open</th>\n      <th>high</th>\n      <th>bypass</th>\n      <th>bpv_close</th>\n      <th>bpv_open</th>\n      <th>class</th>\n    </tr>\n  </thead>\n  <tbody>\n    <tr>\n      <th>55</th>\n      <td>0</td>\n      <td>81</td>\n      <td>0</td>\n      <td>-6</td>\n      <td>11</td>\n      <td>25</td>\n      <td>88</td>\n      <td>64</td>\n      <td>4</td>\n    </tr>\n    <tr>\n      <th>56</th>\n      <td>0</td>\n      <td>96</td>\n      <td>0</td>\n      <td>52</td>\n      <td>-4</td>\n      <td>40</td>\n      <td>44</td>\n      <td>4</td>\n      <td>4</td>\n    </tr>\n    <tr>\n      <th>50</th>\n      <td>-1</td>\n      <td>89</td>\n      <td>-7</td>\n      <td>50</td>\n      <td>0</td>\n      <td>39</td>\n      <td>40</td>\n      <td>2</td>\n      <td>1</td>\n    </tr>\n    <tr>\n      <th>53</th>\n      <td>9</td>\n      <td>79</td>\n      <td>0</td>\n      <td>42</td>\n      <td>-2</td>\n      <td>25</td>\n      <td>37</td>\n      <td>12</td>\n      <td>4</td>\n    </tr>\n    <tr>\n      <th>55</th>\n      <td>2</td>\n      <td>82</td>\n      <td>0</td>\n      <td>54</td>\n      <td>-6</td>\n      <td>26</td>\n      <td>28</td>\n      <td>2</td>\n      <td>1</td>\n    </tr>\n  </tbody>\n</table>\n</div>"
     },
     "metadata": {},
     "execution_count": 27
    }
   ],
   "source": [
    "# Your code here:\n",
    "shuttle.head()"
   ]
  },
  {
   "cell_type": "markdown",
   "metadata": {},
   "source": [
    "To make life easier for us, let's turn this dataframe into a comma separated file by saving it using the `to_csv()` function. Save `shuttle` into the file `shuttle.csv` and ensure the file is comma separated and that we are not saving the index column."
   ]
  },
  {
   "cell_type": "code",
   "execution_count": 28,
   "metadata": {},
   "outputs": [],
   "source": [
    "# Your code here:\n",
    "# Export tab-delimited file\n",
    "shuttle = shuttle.to_csv('shuttle.csv', sep=',', index=False)"
   ]
  },
  {
   "cell_type": "markdown",
   "metadata": {},
   "source": [
    "# Challenge 3 - Working with Excel Files\n",
    "\n",
    "We can also use pandas to convert excel spreadsheets to dataframes. Let's use the `read_excel()` function. In this case, `astronauts.xls` is in the same folder that contains this notebook. Read this file into a variable called `astronaut`. \n",
    "\n",
    "Note: Make sure to install the `xlrd` library if it is not yet installed."
   ]
  },
  {
   "cell_type": "code",
   "execution_count": 29,
   "metadata": {},
   "outputs": [],
   "source": [
    "# Your code here:\n",
    "astrounat = pd.read_excel('astronauts.xls')"
   ]
  },
  {
   "cell_type": "markdown",
   "metadata": {},
   "source": [
    "Use the `head()` function to inspect the dataframe."
   ]
  },
  {
   "cell_type": "code",
   "execution_count": 30,
   "metadata": {},
   "outputs": [
    {
     "output_type": "execute_result",
     "data": {
      "text/plain": [
       "Index(['Name', 'Year', 'Group', 'Status', 'Birth Date', 'Birth Place',\n",
       "       'Gender', 'Alma Mater', 'Undergraduate Major', 'Graduate Major',\n",
       "       'Military Rank', 'Military Branch', 'Space Flights',\n",
       "       'Space Flight (hr)', 'Space Walks', 'Space Walks (hr)', 'Missions',\n",
       "       'Death Date', 'Death Mission'],\n",
       "      dtype='object')"
      ]
     },
     "metadata": {},
     "execution_count": 30
    }
   ],
   "source": [
    "# Your code here:\n",
    "astrounat.head()\n",
    "astrounat.columns"
   ]
  },
  {
   "cell_type": "markdown",
   "metadata": {},
   "source": [
    "Use the `value_counts()` function to find the most popular undergraduate major among all astronauts."
   ]
  },
  {
   "cell_type": "code",
   "execution_count": 31,
   "metadata": {},
   "outputs": [
    {
     "output_type": "execute_result",
     "data": {
      "text/plain": [
       "Physics                                          35\n",
       "Aerospace Engineering                            33\n",
       "Mechanical Engineering                           30\n",
       "Aeronautical Engineering                         28\n",
       "Electrical Engineering                           23\n",
       "                                                 ..\n",
       "Physical Science                                  1\n",
       "Molecular Biology                                 1\n",
       "Astronomy                                         1\n",
       "Business Management; Aeronautical Engineering     1\n",
       "Chemistry; Physiological Optics                   1\n",
       "Name: Undergraduate Major, Length: 83, dtype: int64"
      ]
     },
     "metadata": {},
     "execution_count": 31
    }
   ],
   "source": [
    "# Your code here:\n",
    "astrounat['Undergraduate Major'].value_counts()"
   ]
  },
  {
   "cell_type": "markdown",
   "metadata": {},
   "source": [
    "Due to all the commas present in the cells of this file, let's save it as a tab separated csv file. In the cell below, save `astronaut` as a tab separated file using the `to_csv` function. Call the file `astronaut.csv` and remember to remove the index column."
   ]
  },
  {
   "cell_type": "code",
   "execution_count": 32,
   "metadata": {},
   "outputs": [],
   "source": [
    "astrounat = astrounat.to_csv('astrounat_data.csv',encoding='utf-8', sep='\\t', index=False)"
   ]
  },
  {
   "cell_type": "markdown",
   "metadata": {},
   "source": [
    "# Bonus Challenge - Fertility Dataset\n",
    "\n",
    "Visit the following [URL](https://archive.ics.uci.edu/ml/datasets/Fertility) and retrieve the dataset as well as the column headers. Determine the correct separator and read the file into a variable called `fertility`. Examine the dataframe using the `head()` function."
   ]
  },
  {
   "cell_type": "code",
   "execution_count": 15,
   "metadata": {},
   "outputs": [],
   "source": [
    "# Your code here:\n",
    "\n"
   ]
  }
 ],
 "metadata": {
  "kernelspec": {
   "display_name": "Python 3",
   "language": "python",
   "name": "python3"
  },
  "language_info": {
   "codemirror_mode": {
    "name": "ipython",
    "version": 3
   },
   "file_extension": ".py",
   "mimetype": "text/x-python",
   "name": "python",
   "nbconvert_exporter": "python",
   "pygments_lexer": "ipython3",
   "version": "3.8.3-final"
  }
 },
 "nbformat": 4,
 "nbformat_minor": 2
}